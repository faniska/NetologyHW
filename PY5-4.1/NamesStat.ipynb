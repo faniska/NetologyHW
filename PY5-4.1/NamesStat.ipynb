{
 "cells": [
  {
   "cell_type": "code",
   "execution_count": 16,
   "metadata": {
    "collapsed": true
   },
   "outputs": [],
   "source": [
    "import pandas as pd"
   ]
  },
  {
   "cell_type": "code",
   "execution_count": 9,
   "metadata": {},
   "outputs": [],
   "source": [
    "DATA_PATH = '/Users/fanis/AnacondaProjects/Netology-PY5/names/'"
   ]
  },
  {
   "cell_type": "code",
   "execution_count": 53,
   "metadata": {},
   "outputs": [
    {
     "name": "stdout",
     "output_type": "stream",
     "text": [
      "['James', 'John', 'Robert']\n"
     ]
    }
   ],
   "source": [
    "def read_and_concat_data(years, add_cols=None):\n",
    "    cols = ['Name', 'Gender', 'Count']\n",
    "    if not isinstance(years, list):\n",
    "        years = [years]\n",
    "    data = {}\n",
    "    for year in years:\n",
    "        file_path = '{}yob{}.txt'.format(DATA_PATH, year)\n",
    "        data[year] = pd.read_csv(file_path, names=cols)\n",
    "    total_data = pd.concat(data, names=add_cols)\n",
    "    return total_data\n",
    "\n",
    "def get_top3_pop_names(years):\n",
    "    total_data = read_and_concat_data(years)\n",
    "    result = total_data.groupby('Name').sum().sort_values(by='Count', ascending=False).head(3)\n",
    "    return result.index.tolist()\n",
    "    \n",
    "print(get_top3_pop_names([1900, 1950, 2000]))"
   ]
  },
  {
   "cell_type": "code",
   "execution_count": 92,
   "metadata": {},
   "outputs": [
    {
     "name": "stdout",
     "output_type": "stream",
     "text": [
      "               Count\n",
      "Gender Year         \n",
      "F      1900   299810\n",
      "       1950  1713259\n",
      "       2000  1814922\n",
      "M      1900   150486\n",
      "       1950  1790871\n",
      "       2000  1962744\n"
     ]
    }
   ],
   "source": [
    "def get_dynamics(years):\n",
    "    return read_and_concat_data(years, ['Year']).groupby(['Gender','Year']).sum()\n",
    "\n",
    "print(get_dynamics([1900, 1950, 2000]))"
   ]
  }
 ],
 "metadata": {
  "kernelspec": {
   "display_name": "Python 3",
   "language": "python",
   "name": "python3"
  },
  "language_info": {
   "codemirror_mode": {
    "name": "ipython",
    "version": 3.0
   },
   "file_extension": ".py",
   "mimetype": "text/x-python",
   "name": "python",
   "nbconvert_exporter": "python",
   "pygments_lexer": "ipython3",
   "version": "3.6.1"
  }
 },
 "nbformat": 4,
 "nbformat_minor": 0
}